{
 "cells": [
  {
   "cell_type": "markdown",
   "metadata": {},
   "source": [
    "# Weather Data\n",
    "## Introduction\n",
    "The goal of this little project is to see if I can gather weather data from the past in order to build a predictive model for the future. Common sense dictates that this is unlikely - after all, the concept of climate change suggests that there would be change year-by-year; nevertheless, it would be interesting to see just how far off the predictions are from the past. Not only would this be able to demonstrate how far climate change has taken us, but also, it would allow us to potentially track a pattern of discrepancy from predicted temperatures. Depending on how this goes, this may lead to a further project to see if there's a further predictive model for a confounding factor (like climate change) that would adjust for the pattern of discrepancies. \n",
    "\n",
    "## Assumptions\n",
    "A key assumptions that will be in the background of the project is that temperature and climate change are directly related. This is a simplistic understanding of the effects of climate change, but it will be the biggest assumption that I am working with. \n",
    "\n",
    "## Data Used\n"
   ]
  },
  {
   "cell_type": "code",
   "execution_count": 3,
   "metadata": {},
   "outputs": [],
   "source": [
    "#packages\n",
    "import matplotlib as mpl\n",
    "import matplotlib.pyplot as plt \n",
    "import seaborn as sns\n",
    "import pandas as pd\n",
    "import statsmodels.api as sm"
   ]
  },
  {
   "cell_type": "code",
   "execution_count": null,
   "metadata": {},
   "outputs": [],
   "source": [
    "#import data\n"
   ]
  }
 ],
 "metadata": {
  "interpreter": {
   "hash": "6ab0105da1a4294f96065aa63ab5b17977435c6cced3f9b99c458903fe7f8850"
  },
  "kernelspec": {
   "display_name": "Python 3.9.6 64-bit",
   "language": "python",
   "name": "python3"
  },
  "language_info": {
   "codemirror_mode": {
    "name": "ipython",
    "version": 3
   },
   "file_extension": ".py",
   "mimetype": "text/x-python",
   "name": "python",
   "nbconvert_exporter": "python",
   "pygments_lexer": "ipython3",
   "version": "3.8.8"
  },
  "orig_nbformat": 4
 },
 "nbformat": 4,
 "nbformat_minor": 2
}
